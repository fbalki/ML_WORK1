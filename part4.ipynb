{
 "cells": [
  {
   "cell_type": "code",
   "execution_count": 1,
   "metadata": {},
   "outputs": [],
   "source": [
    "import numpy as np\n",
    "import pandas as pd\n",
    "import time\n",
    "from sklearn.model_selection import KFold\n",
    "from sklearn.preprocessing import StandardScaler\n",
    "from sklearn.metrics import confusion_matrix, accuracy_score, precision_score, recall_score, f1_score\n",
    "import matplotlib.pyplot as plt\n",
    "import seaborn as sns"
   ]
  },
  {
   "cell_type": "code",
   "execution_count": 2,
   "metadata": {},
   "outputs": [
    {
     "data": {
      "text/plain": [
       "((17379, 15), (17379,))"
      ]
     },
     "execution_count": 2,
     "metadata": {},
     "output_type": "execute_result"
    }
   ],
   "source": [
    "# Load the dataset\n",
    "day_df  = pd.read_csv('data/day.csv')\n",
    "hour_df = pd.read_csv('data/hour.csv')\n",
    "\n",
    "# Add source column to each dataset\n",
    "# day_df['source'] = 'day'\n",
    "# hour_df['source'] = 'hour'\n",
    "\n",
    "# Merge the datasets\n",
    "merged_df = pd.concat([day_df, hour_df], ignore_index=True)\n",
    "merged_df = merged_df.drop(['dteday'], axis=1)\n",
    "\n",
    "#TEST İÇİN 10 VERİYE İN\n",
    "# merged_df = merged_df.head(10)\n",
    "\n",
    "non_numeric_cols = merged_df.select_dtypes(exclude=['int64', 'float64']).columns\n",
    "if len(non_numeric_cols) > 0:\n",
    "      merged_df = pd.get_dummies(merged_df, columns=non_numeric_cols, drop_first=True)\n",
    "\n",
    "merged_df = merged_df.dropna()\n",
    "\n",
    "X = merged_df.drop('cnt', axis=1).to_numpy()\n",
    "y = merged_df['cnt'].to_numpy().ravel()\n",
    "\n",
    "scaler = StandardScaler()\n",
    "X      = scaler.fit_transform(X)\n",
    "\n",
    "X.shape, y.shape\n"
   ]
  },
  {
   "cell_type": "code",
   "execution_count": 3,
   "metadata": {},
   "outputs": [
    {
     "name": "stdout",
     "output_type": "stream",
     "text": [
      "Average Mean Squared Error (MSE): 0.00\n",
      "Average R² Score: 1.00\n",
      "Total Runtime: 1.94 seconds\n"
     ]
    }
   ],
   "source": [
    "import numpy as np\n",
    "import pandas as pd\n",
    "from sklearn.svm import SVR\n",
    "from sklearn.model_selection import KFold\n",
    "from sklearn.metrics import mean_squared_error, r2_score\n",
    "import time\n",
    "\n",
    "# Start runtime measurement\n",
    "start_time = time.time()\n",
    "\n",
    "# Initialize the SVM regressor with a linear kernel\n",
    "svr = SVR(kernel='linear')\n",
    "\n",
    "# Perform k-Fold Cross-Validation\n",
    "kf = KFold(n_splits=5, shuffle=True, random_state=42)\n",
    "mse_scores = []\n",
    "r2_scores = []\n",
    "\n",
    "for train_index, test_index in kf.split(X):\n",
    "    X_train, X_test = X[train_index], X[test_index]\n",
    "    y_train, y_test = y[train_index], y[test_index]\n",
    "    \n",
    "    # Train the model\n",
    "    svr.fit(X_train, y_train)\n",
    "    \n",
    "    # Predict on the test set\n",
    "    y_pred = svr.predict(X_test)\n",
    "    \n",
    "    # Evaluate performance\n",
    "    mse = mean_squared_error(y_test, y_pred)\n",
    "    r2 = r2_score(y_test, y_pred)\n",
    "    \n",
    "    mse_scores.append(mse)\n",
    "    r2_scores.append(r2)\n",
    "\n",
    "# Print average performance metrics\n",
    "print(f'Average Mean Squared Error (MSE): {np.mean(mse_scores):.2f}')\n",
    "print(f'Average R² Score: {np.mean(r2_scores):.2f}')\n",
    "\n",
    "# End runtime measurement\n",
    "end_time = time.time()\n",
    "print(f'Total Runtime: {end_time - start_time:.2f} seconds')"
   ]
  }
 ],
 "metadata": {
  "kernelspec": {
   "display_name": "Python 3",
   "language": "python",
   "name": "python3"
  },
  "language_info": {
   "codemirror_mode": {
    "name": "ipython",
    "version": 3
   },
   "file_extension": ".py",
   "mimetype": "text/x-python",
   "name": "python",
   "nbconvert_exporter": "python",
   "pygments_lexer": "ipython3",
   "version": "3.12.8"
  }
 },
 "nbformat": 4,
 "nbformat_minor": 2
}
